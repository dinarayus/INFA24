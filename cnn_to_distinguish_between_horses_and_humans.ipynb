{
  "nbformat": 4,
  "nbformat_minor": 0,
  "metadata": {
    "colab": {
      "provenance": [],
      "authorship_tag": "ABX9TyO+5FhAnNMTz846PO65qMBI",
      "include_colab_link": true
    },
    "kernelspec": {
      "name": "python3",
      "display_name": "Python 3"
    },
    "language_info": {
      "name": "python"
    }
  },
  "cells": [
    {
      "cell_type": "markdown",
      "metadata": {
        "id": "view-in-github",
        "colab_type": "text"
      },
      "source": [
        "<a href=\"https://colab.research.google.com/github/dinarayus/Machine_learning/blob/master/cnn_to_distinguish_between_horses_and_humans.ipynb\" target=\"_parent\"><img src=\"https://colab.research.google.com/assets/colab-badge.svg\" alt=\"Open In Colab\"/></a>"
      ]
    },
    {
      "cell_type": "code",
      "execution_count": 8,
      "metadata": {
        "id": "7FOwf3ZL8sct"
      },
      "outputs": [],
      "source": [
        "import urllib.request\n",
        "import zipfile\n",
        "from tensorflow.keras.preprocessing.image import ImageDataGenerator\n",
        "import tensorflow as tf\n",
        "from tensorflow.keras.optimizers import RMSprop"
      ]
    },
    {
      "cell_type": "code",
      "source": [
        "url = \"https://storage.googleapis.com/laurencemoroney-blog.appspot.com/horse-or-human.zip\"\n",
        "\n",
        "file_name = 'horse-or-human-zip'\n",
        "training_dir = 'horse-or-human/training/'\n",
        "urllib.request.urlretrieve(url, file_name) \n",
        "\n",
        "zip_ref = zipfile.ZipFile(file_name, 'r')\n",
        "zip_ref.extractall(training_dir)\n",
        "zip_ref.close()"
      ],
      "metadata": {
        "id": "nBjgd_CVGQce"
      },
      "execution_count": 9,
      "outputs": []
    },
    {
      "cell_type": "code",
      "source": [
        "# Using the ImageDataGenerator\n",
        "# all images will be rescaled by 1./255\n",
        "\n",
        "train_datagen = ImageDataGenerator(rescale=1/255)\n",
        "\n",
        "train_generator = train_datagen.flow_from_directory(training_dir, target_size = (300, 300),class_mode = 'binary')"
      ],
      "metadata": {
        "colab": {
          "base_uri": "https://localhost:8080/"
        },
        "id": "sg0cQj-nJUq4",
        "outputId": "6673adb9-daa7-4b07-bfee-e282d157d10a"
      },
      "execution_count": 10,
      "outputs": [
        {
          "output_type": "stream",
          "name": "stdout",
          "text": [
            "Found 1027 images belonging to 2 classes.\n"
          ]
        }
      ]
    },
    {
      "cell_type": "code",
      "source": [
        "model = tf.keras.models.Sequential([\n",
        "    tf.keras.layers.Conv2D(16, (3,3), activation='relu', input_shape=(300, 300, 3)),\n",
        "    tf.keras.layers.MaxPooling2D(2,2),\n",
        "    tf.keras.layers.Conv2D(32, (3,3), activation='relu'),\n",
        "    tf.keras.layers.MaxPooling2D(2, 2),\n",
        "    tf.keras.layers.Conv2D(64, (3, 3), activation='relu'),\n",
        "    tf.keras.layers.MaxPooling2D(2, 2),\n",
        "    tf.keras.layers.Conv2D(64, (3, 3), activation='relu'),\n",
        "    tf.keras.layers.MaxPooling2D(2, 2),\n",
        "    tf.keras.layers.Flatten(),\n",
        "    tf.keras.layers.Dense(512, activation= 'relu'),\n",
        "    tf.keras.layers.Dense(1, activation= 'sigmoid')\n",
        "])"
      ],
      "metadata": {
        "id": "odvYGDR9VnAy"
      },
      "execution_count": 11,
      "outputs": []
    },
    {
      "cell_type": "code",
      "source": [
        "model.compile(loss='binary_crossentropy', optimizer = RMSprop(lr= 0.001), metrics=['accuracy'])"
      ],
      "metadata": {
        "id": "IaknwkB5X5Yp"
      },
      "execution_count": 13,
      "outputs": []
    },
    {
      "cell_type": "code",
      "source": [
        "#using fit_generator\n",
        "history=model.fit_generator(\n",
        "    train_generator,\n",
        "    epochs=15\n",
        ")"
      ],
      "metadata": {
        "colab": {
          "base_uri": "https://localhost:8080/"
        },
        "id": "aPmnOlabZHTl",
        "outputId": "0f0a05a4-e455-4382-e491-0d8f2c4fc67b"
      },
      "execution_count": 14,
      "outputs": [
        {
          "metadata": {
            "tags": null
          },
          "name": "stderr",
          "output_type": "stream",
          "text": [
            "<ipython-input-14-838067ff51b2>:2: UserWarning: `Model.fit_generator` is deprecated and will be removed in a future version. Please use `Model.fit`, which supports generators.\n",
            "  history=model.fit_generator(\n"
          ]
        },
        {
          "output_type": "stream",
          "name": "stdout",
          "text": [
            "Epoch 1/15\n",
            "33/33 [==============================] - 101s 3s/step - loss: 1.3145 - accuracy: 0.6426\n",
            "Epoch 2/15\n",
            "33/33 [==============================] - 97s 3s/step - loss: 0.4064 - accuracy: 0.8802\n",
            "Epoch 3/15\n",
            "33/33 [==============================] - 97s 3s/step - loss: 0.1493 - accuracy: 0.9484\n",
            "Epoch 4/15\n",
            "33/33 [==============================] - 97s 3s/step - loss: 0.0962 - accuracy: 0.9669\n",
            "Epoch 5/15\n",
            "33/33 [==============================] - 96s 3s/step - loss: 0.1518 - accuracy: 0.9611\n",
            "Epoch 6/15\n",
            "33/33 [==============================] - 99s 3s/step - loss: 0.3718 - accuracy: 0.9757\n",
            "Epoch 7/15\n",
            "33/33 [==============================] - 96s 3s/step - loss: 0.0050 - accuracy: 0.9990\n",
            "Epoch 8/15\n",
            "33/33 [==============================] - 99s 3s/step - loss: 1.6624e-04 - accuracy: 1.0000\n",
            "Epoch 9/15\n",
            "33/33 [==============================] - 97s 3s/step - loss: 0.7130 - accuracy: 0.9620\n",
            "Epoch 10/15\n",
            "33/33 [==============================] - 97s 3s/step - loss: 0.0052 - accuracy: 0.9981\n",
            "Epoch 11/15\n",
            "33/33 [==============================] - 98s 3s/step - loss: 0.1558 - accuracy: 0.9747\n",
            "Epoch 12/15\n",
            "33/33 [==============================] - 96s 3s/step - loss: 0.0792 - accuracy: 0.9834\n",
            "Epoch 13/15\n",
            "33/33 [==============================] - 96s 3s/step - loss: 0.0386 - accuracy: 0.9903\n",
            "Epoch 14/15\n",
            "33/33 [==============================] - 96s 3s/step - loss: 2.2116e-04 - accuracy: 1.0000\n",
            "Epoch 15/15\n",
            "33/33 [==============================] - 99s 3s/step - loss: 2.8466e-05 - accuracy: 1.0000\n"
          ]
        }
      ]
    }
  ]
}